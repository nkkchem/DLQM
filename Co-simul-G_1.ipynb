{
 "cells": [
  {
   "cell_type": "markdown",
   "metadata": {
    "colab_type": "text",
    "id": "Y7qRW8gJnXDD"
   },
   "source": [
    "# Predicting Gibbs free energy of metabolic reactions using Neural Network\n",
    "Motivation: A quantitative understanding of the thermodynamics of biochemical reactions is essential for accurately modeling metabolism. The energetics studies of metabolic pathways require an accurate knowledge of the thermochemical quantities of involved substrates and metabolites. Most importantly, accurate knowledge of the standard Gibbs free energy change of the involved reaction is required in order to quantify the degree of thermodynamic favourability of reactions in biological systems. The number of molecules involved in the biochemical reactions is huge and the currently available Gibbs free energies of formation is not accurate (based on empirical methods such as GCM or CCM). Quantum chemistry has recently emerged as an important alternative modelling tool for the accurate prediction of biochemical thermodynamics. However, quantum chemical methods tend to have very high computational cost in comparison with the GCM or other cheminformatic-based alternatives.\n",
    "\n",
    "    \"There is a need to develop alternative non-empirical approach that use quantum chemical data and predict free energy of molecules relevant for the metabolic pathways.\""
   ]
  },
  {
   "cell_type": "markdown",
   "metadata": {
    "colab_type": "text",
    "id": "CNqqZY16nXDF"
   },
   "source": [
    "## Metrics: \n",
    "\n",
    "We are hoping that we would be able to successfully train our model to reproduce the existing analysis and predict energetics of new metabolic reactions. \n",
    "\n",
    "1. Our goal is to predict the free energy of metabolites (unknown/not trained) involved in metacyc within the accuracy of DFT by training quantum mechanical data (QM9).\n",
    "2. Generate Gibbs energy of metabolic reactions (Need to think about how can we do this)\n",
    "3.  If the machine learning predicted free energy of metabolic reactions is within 1-2 kcal/mol than that of experimental value, we are successful. \n"
   ]
  },
  {
   "cell_type": "markdown",
   "metadata": {
    "colab_type": "text",
    "id": "mNiu7SUUnXDE"
   },
   "source": [
    "## Deep Learning Approaches\n",
    "Supervised learning on molecules has seen rapid improvements with applications to chemistry, drug discovery, and materials science\n",
    "* Message-Passing Neural Networks ([Gilmer et al 2017] (https://arxiv.org/pdf/1704.01212.pdf)) A framework for describing many graph neural networks (described below) in terms of  Message, Update and  Readout operations on graphs with analogy to message passing in Probabilistic Graphical models\n",
    "  * Graph Convolutional Networks  ([Thomas Kipf et al 2016](http://arxiv.org/abs/1609.02907))\n",
    "  * Gated Graph Convolutional Networks [(Li et al 2016)](http://arxiv.org/abs/1511.05493)\n",
    "  * [Interaction Networks](https://github.com/PNNL-CompBio/graph-neural-networks) ([Battaglia et al 2016](http://arxiv.org/abs/1612.00222)) This is the network we got working first\n",
    "  * [Deep Tensor Neural Networks](https://github.com/atomistic-machine-learning/dtnn) [(Schutt 2017a)](https://www.nature.com/articles/ncomms13890) This was referenced in MPNN paper\n",
    "  * [SchNet](https://github.com/djinnome/SchNet) ([Schutt 2017b](http://arxiv.org/abs/1712.06113)) This improved on DTNN\n",
    "  * Neural Message Passing with Edge Updates [(Bjorgensen 2018)](https://arxiv.org/pdf/1806.03146.pdf) This improved on SchNet.\n",
    "  * Graph Networks[(Battaglia et al 2018)](https://arxiv.org/abs/1806.01261) This is a generalization of MPNNs (see figure below)\n",
    "* Ensemble networks to predict properties.\n",
    "    \n"
   ]
  },
  {
   "cell_type": "markdown",
   "metadata": {
    "colab_type": "text",
    "id": "Z1fy3OOmOTsg"
   },
   "source": [
    "![graph neural network architectures](https://ndownloader.figshare.com/files/12245093/preview/12245093/preview.jpg?private_link=7bc3719fab09b0639bd4)"
   ]
  },
  {
   "cell_type": "markdown",
   "metadata": {
    "colab_type": "text",
    "id": "iOWwYScTnXDF"
   },
   "source": [
    "## Training Data\n",
    "* Quantum mechanics data (QM9/B3LYP) raw distances and chemical graph\n",
    "* QM9/B3LYP with binned distances and chemical graph. Bin 0 is anything less than 2 angstroms. Bin 9 is anything greater than 3 angstroms.\n",
    "* QM9/B3LYP with chemical graph only\n",
    "    \n",
    "    \n",
    "## Dev data\n",
    "* MetaCyc (Group Contribution) subset\n",
    "* Equilibrator (Component Contribution) subset\n",
    "\n",
    "## Test data\n",
    "* MetaCyc (Group Contribution) different subset\n",
    "* Equilibrator (Component Contribution) different subset\n",
    "\n",
    "## Experimental (Golden set) data\n",
    "* NIST free energy of reaction for quantification of true error in prediction"
   ]
  },
  {
   "cell_type": "markdown",
   "metadata": {
    "colab_type": "text",
    "id": "xvQ-trJTBlGv"
   },
   "source": [
    "## Preliminary results\n",
    "\n",
    "Last night, we submitted  Interaction Networks architecture (Battaglia 2016) for training on QM9 for raw distance\n",
    "\n",
    "After analyzing the trained network, we will predict Gibbs energy from our Dev set.\n"
   ]
  },
  {
   "cell_type": "markdown",
   "metadata": {
    "colab_type": "text",
    "id": "AAtqOasJnXDG"
   },
   "source": [
    "## Challenges\n",
    "Rep. of input molecules for prediction of properties: There are a number of things we need to modify in the Message Passing Neural Network (MPNN) in order to predict free energy of reactions involved in metabolism\n",
    "\n",
    "1. 3D Coordinates: We dont have accurate 3D coordinates of the lowest energy states for MetaCyc/Equilibrator compounds. We know that MPNN gets 11/13 properties within chemical accuracy of DFT using both 3D coordinates of the lowest energy state and the SMILES, whereas it  gets 5/13 properties accurately from the Inchi/Smiles only.\n",
    "\n",
    "2. Free Energy of formation to free energy of reaction: \n",
    "We just have values for the gibbs free energy of formation $\\Delta G^\\circ_{f}$ and from that we can get free energy of reaction $\\Delta G^\\circ_{rxn}$ (by calculating $\\Delta G_{rxn}^\\circ = S^T\\Delta G^\\circ_{f}$) where $S$ is the stoichiometric matrix of reactions and metabolites.  This will enable us to predict a more accurate free energy of reaction from the QM9 data. The challenge will be how to correctly propagate errors from the Gibbs free energy of formation to the Gibbs free energy of reaction.  We also need to find a data set that contains experimentally measured Gibbs free energies of reactions as a (NIST?)\n",
    "\n",
    "3. We need to extend to multiple NN architectures (try SchNet  and SchNet + edge updates) \n"
   ]
  },
  {
   "cell_type": "code",
   "execution_count": 1,
   "metadata": {
    "colab": {
     "autoexec": {
      "startup": false,
      "wait_interval": 0
     },
     "base_uri": "https://localhost:8080/",
     "height": 37
    },
    "colab_type": "code",
    "collapsed": true,
    "executionInfo": {
     "elapsed": 616,
     "status": "ok",
     "timestamp": 1530133525461,
     "user": {
      "displayName": "Neeraj Kumar",
      "photoUrl": "https://lh3.googleusercontent.com/a/default-user=s128",
      "userId": "103471443094801827792"
     },
     "user_tz": 420
    },
    "id": "g1Cn0EzGBibA",
    "outputId": "b55dd391-2ee4-47ab-fc55-47998f5b0ad2"
   },
   "outputs": [],
   "source": [
    "def qm9_edges(g, e_representation='raw_distance'):\n",
    "    remove_edges = []\n",
    "    e={}    \n",
    "    for n1, n2, d in g.edges_iter(data=True):\n",
    "        e_t = []\n",
    "        # Raw distance function\n",
    "        if e_representation == 'chem_graph':\n",
    "            if d['b_type'] is None:\n",
    "                remove_edges += [(n1, n2)]\n",
    "            else:\n",
    "                e_t += [i+1 for i, x in enumerate([rdkit.Chem.rdchem.BondType.SINGLE, rdkit.Chem.rdchem.BondType.DOUBLE,\n",
    "                                                rdkit.Chem.rdchem.BondType.TRIPLE, rdkit.Chem.rdchem.BondType.AROMATIC])\n",
    "                        if x == d['b_type']]\n",
    "        elif e_representation == 'distance_bin':\n",
    "            if d['b_type'] is None:\n",
    "                step = (6-2)/8.0\n",
    "                start = 2\n",
    "                b = 9\n",
    "                for i in range(0, 9):\n",
    "                    if d['distance'] < (start+i*step):\n",
    "                        b = i\n",
    "                        break\n",
    "                e_t.append(b+5)\n",
    "            else:\n",
    "                e_t += [i+1 for i, x in enumerate([rdkit.Chem.rdchem.BondType.SINGLE, rdkit.Chem.rdchem.BondType.DOUBLE,\n",
    "                                                   rdkit.Chem.rdchem.BondType.TRIPLE, rdkit.Chem.rdchem.BondType.AROMATIC])\n",
    "                        if x == d['b_type']]\n",
    "        elif e_representation == 'raw_distance':\n",
    "            if d['b_type'] is None:\n",
    "                remove_edges += [(n1, n2)]\n",
    "            else:\n",
    "                e_t.append(d['distance'])\n",
    "                e_t += [int(d['b_type'] == x) for x in [rdkit.Chem.rdchem.BondType.SINGLE, rdkit.Chem.rdchem.BondType.DOUBLE,\n",
    "                                                        rdkit.Chem.rdchem.BondType.TRIPLE, rdkit.Chem.rdchem.BondType.AROMATIC]]\n",
    "        else:\n",
    "            print('Incorrect Edge representation transform')\n",
    "            quit()\n",
    "        if e_t:\n",
    "            e[(n1, n2)] = e_t\n",
    "    for edg in remove_edges:\n",
    "        g.remove_edge(*edg)\n",
    "    return nx.to_numpy_matrix(g), e\n"
   ]
  },
  {
   "cell_type": "markdown",
   "metadata": {
    "colab_type": "text",
    "id": "kfoGg9rjnXDH"
   },
   "source": [
    "## Future ROAD MAP\n",
    "\n",
    "By developing deep neural network we would like to expand the range of problems that can be addressed by \n",
    "1. Accurately modeling chemical properties with high level ab iniito simulations\n",
    "2. Modeling much larger systems including cofactors and transition metal\n",
    "3. Trainlarger datasets, and "
   ]
  }
 ],
 "metadata": {
  "_draft": {
   "nbviewer_url": "https://gist.github.com/b877a530c3a523ac41f7b88193eb1dd9"
  },
  "colab": {
   "collapsed_sections": [],
   "default_view": {},
   "name": "Co-simul-G.ipynb",
   "provenance": [],
   "version": "0.3.2",
   "views": {}
  },
  "gist": {
   "data": {
    "description": "Projects/DLQM/DS-DG/Co-simul-G_1.ipynb",
    "public": true
   },
   "id": "b877a530c3a523ac41f7b88193eb1dd9"
  },
  "kernelspec": {
   "display_name": "Python 2",
   "language": "python",
   "name": "python2"
  },
  "language_info": {
   "codemirror_mode": {
    "name": "ipython",
    "version": 2
   },
   "file_extension": ".py",
   "mimetype": "text/x-python",
   "name": "python",
   "nbconvert_exporter": "python",
   "pygments_lexer": "ipython2",
   "version": "2.7.13"
  },
  "latex_envs": {
   "LaTeX_envs_menu_present": true,
   "autocomplete": true,
   "bibliofile": "biblio.bib",
   "cite_by": "apalike",
   "current_citInitial": 1,
   "eqLabelWithNumbers": true,
   "eqNumInitial": 1,
   "hotkeys": {
    "equation": "Ctrl-E",
    "itemize": "Ctrl-I"
   },
   "labels_anchors": false,
   "latex_user_defs": false,
   "report_style_numbering": false,
   "user_envs_cfg": false
  },
  "toc": {
   "colors": {
    "hover_highlight": "#DAA520",
    "navigate_num": "#000000",
    "navigate_text": "#333333",
    "running_highlight": "#FF0000",
    "selected_highlight": "#FFD700",
    "sidebar_border": "#EEEEEE",
    "wrapper_background": "#FFFFFF"
   },
   "moveMenuLeft": true,
   "nav_menu": {
    "height": "197px",
    "width": "251px"
   },
   "navigate_menu": true,
   "number_sections": true,
   "sideBar": true,
   "threshold": 4,
   "toc_cell": false,
   "toc_section_display": "block",
   "toc_window_display": false,
   "widenNotebook": false
  }
 },
 "nbformat": 4,
 "nbformat_minor": 1
}
